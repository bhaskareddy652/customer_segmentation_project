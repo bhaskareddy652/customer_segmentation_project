{
 "cells": [
  {
   "cell_type": "code",
   "execution_count": 15,
   "id": "8afed287-f924-4c68-861f-aaa1f862dd9d",
   "metadata": {},
   "outputs": [],
   "source": [
    "import numpy as np\n",
    "import pandas as pd\n",
    "import matplotlib.pyplot as plt\n",
    "from sklearn.preprocessing import StandardScaler\n",
    "from sklearn.cluster import KMeans"
   ]
  },
  {
   "cell_type": "code",
   "execution_count": 25,
   "id": "e2ed8b0f-9401-4a20-b854-9e5a152e6703",
   "metadata": {},
   "outputs": [],
   "source": [
    "df1 = pd.read_csv(\"C://Users//bhask//Downloads//Customers.csv\")\n",
    "df2 = pd.read_csv(\"C://Users//bhask//Downloads//Products.csv\")\n",
    "df3 = pd.read_csv(\"C://Users//bhask//Downloads//Transactions.csv\")"
   ]
  },
  {
   "cell_type": "code",
   "execution_count": 31,
   "id": "c5899727-4752-4954-9e90-7f9db75b1a3d",
   "metadata": {},
   "outputs": [],
   "source": [
    "data = pd.merge(df3,df1, on=\"CustomerID\", how=\"inner\")\n",
    "data = pd.merge(data, df2, on=\"ProductID\", how=\"inner\")"
   ]
  },
  {
   "cell_type": "code",
   "execution_count": 33,
   "id": "1a53028a-64dd-459b-af5b-7d01dc813833",
   "metadata": {},
   "outputs": [],
   "source": [
    "customer_summary = data.groupby(\"CustomerID\").agg({\n",
    "    \"TotalValue\": \"sum\",  # Total spending per customer\n",
    "    \"TransactionID\": \"count\",  # Number of transactions per customer\n",
    "    \"ProductName\": lambda x: x.mode()[0],  # Most purchased product\n",
    "    \"Category\": lambda x: x.mode()[0],  # Most purchased category\n",
    "}).reset_index()"
   ]
  },
  {
   "cell_type": "code",
   "execution_count": 35,
   "id": "d2d09440-cbd5-4bd3-93ca-7a0e8a7cb1a9",
   "metadata": {},
   "outputs": [],
   "source": [
    "customer_summary = customer_summary.merge(df1[[\"CustomerID\", \"Region\"]], on=\"CustomerID\", how=\"left\")"
   ]
  },
  {
   "cell_type": "code",
   "execution_count": 37,
   "id": "bd9a264f-65be-45e6-b166-75cfa9212888",
   "metadata": {},
   "outputs": [],
   "source": [
    "# Handle categorical data Region and Category\n",
    "customer_summary = pd.get_dummies(customer_summary, columns=[\"Region\", \"Category\"])"
   ]
  },
  {
   "cell_type": "code",
   "execution_count": 39,
   "id": "80711189-a3e0-4d65-b15c-29a03d705b19",
   "metadata": {},
   "outputs": [],
   "source": [
    "scaler = StandardScaler()\n",
    "scaled_features = scaler.fit_transform(customer_summary.drop(columns=[\"CustomerID\", \"ProductName\"]))"
   ]
  },
  {
   "cell_type": "code",
   "execution_count": 41,
   "id": "3b4f520c-15a9-425b-a057-5874387ed5d3",
   "metadata": {},
   "outputs": [],
   "source": [
    "# Compute Similarity Scores\n",
    "from sklearn.metrics.pairwise import cosine_similarity\n",
    "similarity_matrix = cosine_similarity(scaled_features)"
   ]
  },
  {
   "cell_type": "code",
   "execution_count": 43,
   "id": "4df612cd-be0b-4e4b-b5ab-614c08845723",
   "metadata": {},
   "outputs": [],
   "source": [
    "lookalike_map = {}\n",
    "for idx, customer_id in enumerate(customer_summary[\"CustomerID\"]):\n",
    "    # Get similarity scores for the current customer\n",
    "    scores = list(enumerate(similarity_matrix[idx]))\n",
    "    scores = sorted(scores, key=lambda x: x[1], reverse=True)\n",
    "    scores = [(customer_summary[\"CustomerID\"].iloc[i], score) for i, score in scores if i != idx]\n",
    "    # it takes the top 3 most similar customers\n",
    "    lookalike_map[customer_id] = scores[:3]"
   ]
  },
  {
   "cell_type": "code",
   "execution_count": 45,
   "id": "452cf34d-1c9d-44f4-8cb9-d29d6e9ef166",
   "metadata": {},
   "outputs": [
    {
     "name": "stdout",
     "output_type": "stream",
     "text": [
      "Lookalike recommendations generated and saved to Lookalike.csv!\n"
     ]
    }
   ],
   "source": [
    "\n",
    "lookalike_data = []\n",
    "for customer_id, similar_customers in lookalike_map.items():\n",
    "    lookalike_data.append({\n",
    "        \"CustomerID\": customer_id,\n",
    "        \"Lookalikes\": [{\"CustomerID\": sim_id, \"Score\": round(score, 2)} for sim_id, score in similar_customers]\n",
    "    })\n",
    "lookalike_df = pd.DataFrame(lookalike_data)\n",
    "lookalike_df.to_csv(\"Lookalike.csv\", index=False)\n",
    "print(\"Lookalike recommendations generated and saved to Lookalike.csv!\")"
   ]
  },
  {
   "cell_type": "code",
   "execution_count": 47,
   "id": "f2794fb8-c5e4-4190-961e-9f76fe3b7d66",
   "metadata": {},
   "outputs": [
    {
     "data": {
      "text/html": [
       "<div>\n",
       "<style scoped>\n",
       "    .dataframe tbody tr th:only-of-type {\n",
       "        vertical-align: middle;\n",
       "    }\n",
       "\n",
       "    .dataframe tbody tr th {\n",
       "        vertical-align: top;\n",
       "    }\n",
       "\n",
       "    .dataframe thead th {\n",
       "        text-align: right;\n",
       "    }\n",
       "</style>\n",
       "<table border=\"1\" class=\"dataframe\">\n",
       "  <thead>\n",
       "    <tr style=\"text-align: right;\">\n",
       "      <th></th>\n",
       "      <th>CustomerID</th>\n",
       "      <th>Lookalikes</th>\n",
       "    </tr>\n",
       "  </thead>\n",
       "  <tbody>\n",
       "    <tr>\n",
       "      <th>0</th>\n",
       "      <td>C0001</td>\n",
       "      <td>[{'CustomerID': 'C0190', 'Score': 1.0}, {'Cust...</td>\n",
       "    </tr>\n",
       "    <tr>\n",
       "      <th>1</th>\n",
       "      <td>C0002</td>\n",
       "      <td>[{'CustomerID': 'C0088', 'Score': 0.99}, {'Cus...</td>\n",
       "    </tr>\n",
       "    <tr>\n",
       "      <th>2</th>\n",
       "      <td>C0003</td>\n",
       "      <td>[{'CustomerID': 'C0052', 'Score': 1.0}, {'Cust...</td>\n",
       "    </tr>\n",
       "    <tr>\n",
       "      <th>3</th>\n",
       "      <td>C0004</td>\n",
       "      <td>[{'CustomerID': 'C0155', 'Score': 0.99}, {'Cus...</td>\n",
       "    </tr>\n",
       "    <tr>\n",
       "      <th>4</th>\n",
       "      <td>C0005</td>\n",
       "      <td>[{'CustomerID': 'C0186', 'Score': 1.0}, {'Cust...</td>\n",
       "    </tr>\n",
       "    <tr>\n",
       "      <th>5</th>\n",
       "      <td>C0006</td>\n",
       "      <td>[{'CustomerID': 'C0168', 'Score': 0.99}, {'Cus...</td>\n",
       "    </tr>\n",
       "    <tr>\n",
       "      <th>6</th>\n",
       "      <td>C0007</td>\n",
       "      <td>[{'CustomerID': 'C0005', 'Score': 1.0}, {'Cust...</td>\n",
       "    </tr>\n",
       "    <tr>\n",
       "      <th>7</th>\n",
       "      <td>C0008</td>\n",
       "      <td>[{'CustomerID': 'C0065', 'Score': 0.91}, {'Cus...</td>\n",
       "    </tr>\n",
       "    <tr>\n",
       "      <th>8</th>\n",
       "      <td>C0009</td>\n",
       "      <td>[{'CustomerID': 'C0062', 'Score': 0.99}, {'Cus...</td>\n",
       "    </tr>\n",
       "    <tr>\n",
       "      <th>9</th>\n",
       "      <td>C0010</td>\n",
       "      <td>[{'CustomerID': 'C0062', 'Score': 0.99}, {'Cus...</td>\n",
       "    </tr>\n",
       "    <tr>\n",
       "      <th>10</th>\n",
       "      <td>C0011</td>\n",
       "      <td>[{'CustomerID': 'C0137', 'Score': 1.0}, {'Cust...</td>\n",
       "    </tr>\n",
       "    <tr>\n",
       "      <th>11</th>\n",
       "      <td>C0012</td>\n",
       "      <td>[{'CustomerID': 'C0113', 'Score': 0.99}, {'Cus...</td>\n",
       "    </tr>\n",
       "    <tr>\n",
       "      <th>12</th>\n",
       "      <td>C0013</td>\n",
       "      <td>[{'CustomerID': 'C0099', 'Score': 0.99}, {'Cus...</td>\n",
       "    </tr>\n",
       "    <tr>\n",
       "      <th>13</th>\n",
       "      <td>C0014</td>\n",
       "      <td>[{'CustomerID': 'C0060', 'Score': 1.0}, {'Cust...</td>\n",
       "    </tr>\n",
       "    <tr>\n",
       "      <th>14</th>\n",
       "      <td>C0015</td>\n",
       "      <td>[{'CustomerID': 'C0036', 'Score': 0.99}, {'Cus...</td>\n",
       "    </tr>\n",
       "    <tr>\n",
       "      <th>15</th>\n",
       "      <td>C0016</td>\n",
       "      <td>[{'CustomerID': 'C0183', 'Score': 1.0}, {'Cust...</td>\n",
       "    </tr>\n",
       "    <tr>\n",
       "      <th>16</th>\n",
       "      <td>C0017</td>\n",
       "      <td>[{'CustomerID': 'C0075', 'Score': 0.98}, {'Cus...</td>\n",
       "    </tr>\n",
       "    <tr>\n",
       "      <th>17</th>\n",
       "      <td>C0018</td>\n",
       "      <td>[{'CustomerID': 'C0117', 'Score': 0.98}, {'Cus...</td>\n",
       "    </tr>\n",
       "    <tr>\n",
       "      <th>18</th>\n",
       "      <td>C0019</td>\n",
       "      <td>[{'CustomerID': 'C0081', 'Score': 0.96}, {'Cus...</td>\n",
       "    </tr>\n",
       "    <tr>\n",
       "      <th>19</th>\n",
       "      <td>C0020</td>\n",
       "      <td>[{'CustomerID': 'C0050', 'Score': 0.92}, {'Cus...</td>\n",
       "    </tr>\n",
       "  </tbody>\n",
       "</table>\n",
       "</div>"
      ],
      "text/plain": [
       "   CustomerID                                         Lookalikes\n",
       "0       C0001  [{'CustomerID': 'C0190', 'Score': 1.0}, {'Cust...\n",
       "1       C0002  [{'CustomerID': 'C0088', 'Score': 0.99}, {'Cus...\n",
       "2       C0003  [{'CustomerID': 'C0052', 'Score': 1.0}, {'Cust...\n",
       "3       C0004  [{'CustomerID': 'C0155', 'Score': 0.99}, {'Cus...\n",
       "4       C0005  [{'CustomerID': 'C0186', 'Score': 1.0}, {'Cust...\n",
       "5       C0006  [{'CustomerID': 'C0168', 'Score': 0.99}, {'Cus...\n",
       "6       C0007  [{'CustomerID': 'C0005', 'Score': 1.0}, {'Cust...\n",
       "7       C0008  [{'CustomerID': 'C0065', 'Score': 0.91}, {'Cus...\n",
       "8       C0009  [{'CustomerID': 'C0062', 'Score': 0.99}, {'Cus...\n",
       "9       C0010  [{'CustomerID': 'C0062', 'Score': 0.99}, {'Cus...\n",
       "10      C0011  [{'CustomerID': 'C0137', 'Score': 1.0}, {'Cust...\n",
       "11      C0012  [{'CustomerID': 'C0113', 'Score': 0.99}, {'Cus...\n",
       "12      C0013  [{'CustomerID': 'C0099', 'Score': 0.99}, {'Cus...\n",
       "13      C0014  [{'CustomerID': 'C0060', 'Score': 1.0}, {'Cust...\n",
       "14      C0015  [{'CustomerID': 'C0036', 'Score': 0.99}, {'Cus...\n",
       "15      C0016  [{'CustomerID': 'C0183', 'Score': 1.0}, {'Cust...\n",
       "16      C0017  [{'CustomerID': 'C0075', 'Score': 0.98}, {'Cus...\n",
       "17      C0018  [{'CustomerID': 'C0117', 'Score': 0.98}, {'Cus...\n",
       "18      C0019  [{'CustomerID': 'C0081', 'Score': 0.96}, {'Cus...\n",
       "19      C0020  [{'CustomerID': 'C0050', 'Score': 0.92}, {'Cus..."
      ]
     },
     "execution_count": 47,
     "metadata": {},
     "output_type": "execute_result"
    }
   ],
   "source": [
    "lok=pd.read_csv(\"Lookalike.csv\")\n",
    "lok.head(20)"
   ]
  },
  {
   "cell_type": "code",
   "execution_count": null,
   "id": "63afaf97-76b7-431c-ad58-500e482810f8",
   "metadata": {},
   "outputs": [],
   "source": []
  },
  {
   "cell_type": "code",
   "execution_count": null,
   "id": "22105d0e-8d54-46f0-9d0f-3a84898bddf6",
   "metadata": {},
   "outputs": [],
   "source": []
  },
  {
   "cell_type": "code",
   "execution_count": null,
   "id": "84e5308d-ee0e-4070-84be-d55a013eb274",
   "metadata": {},
   "outputs": [],
   "source": []
  }
 ],
 "metadata": {
  "kernelspec": {
   "display_name": "Python 3 (ipykernel)",
   "language": "python",
   "name": "python3"
  },
  "language_info": {
   "codemirror_mode": {
    "name": "ipython",
    "version": 3
   },
   "file_extension": ".py",
   "mimetype": "text/x-python",
   "name": "python",
   "nbconvert_exporter": "python",
   "pygments_lexer": "ipython3",
   "version": "3.11.7"
  }
 },
 "nbformat": 4,
 "nbformat_minor": 5
}
